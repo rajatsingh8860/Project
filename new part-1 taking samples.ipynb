{
 "cells": [
  {
   "cell_type": "code",
   "execution_count": 11,
   "metadata": {},
   "outputs": [],
   "source": [
    "import cv2\n",
    "import os\n",
    "import csv"
   ]
  },
  {
   "cell_type": "code",
   "execution_count": null,
   "metadata": {},
   "outputs": [],
   "source": [
    "url=\"https://100.65.60.95.8080\"\n",
    "cap=cv2.VideoCapture(0)\n",
    "cap.set(3,640)\n",
    "cap.set(4,480)\n",
    "face_detector=cv2.CascadeClassifier(\"haarcascade_frontalface_alt.xml\")\n",
    "face_id=input(\"Enter id: \")\n",
    "face_name=input(\"Enter name\")\n",
    "count=0\n",
    "if \"dataset\" not in os.listdir(os.getcwd()):\n",
    "    os.mkdir(\"dataset\")\n",
    "    \n",
    "while True:\n",
    "    ret,image=cap.read()\n",
    "    gray=cv2.cvtColor(image,cv2.COLOR_BGR2GRAY)\n",
    "    faces=face_detector.detectMultiScale(gray,scaleFactor=1.3,minNeighbors=5,minSize=(100,100),flags=cv2.CASCADE_SCALE_IMAGE)\n",
    "    for (x,y,w,h) in faces:\n",
    "        cv2.rectangle(image,(x,y),(x+w,y+h),(255,0,0),2)\n",
    "        count+=1\n",
    "        cv2.imwrite(\"dataset/User.\"+str(face_id)+\".\"+face_name+\".\"+str(count)+\".jpg\",gray[y:y+h,x:x+w])\n",
    "        cv2.imshow('image',image)\n",
    "        \n",
    "    \n",
    "    k=cv2.waitKey(100)\n",
    "    if k==13:\n",
    "        break\n",
    "    elif count==100:\n",
    "        break\n",
    "print(\"/n [info] existing program and cleanup stuff\")\n",
    "cap.release()\n",
    "cv2.destroyAllWindows()\n",
    "#append all the data to csv file\n",
    "row=[face_id,face_name]\n",
    "with open('Student_deatils.csv','a+') as csvFile:\n",
    "    writer=csv.writer(csvFile)\n",
    "    writer.writerow(row)\n",
    "csvFile.close()    \n",
    "\n"
   ]
  },
  {
   "cell_type": "code",
   "execution_count": null,
   "metadata": {},
   "outputs": [],
   "source": []
  },
  {
   "cell_type": "code",
   "execution_count": null,
   "metadata": {},
   "outputs": [],
   "source": []
  },
  {
   "cell_type": "code",
   "execution_count": null,
   "metadata": {},
   "outputs": [],
   "source": []
  },
  {
   "cell_type": "code",
   "execution_count": null,
   "metadata": {},
   "outputs": [],
   "source": []
  }
 ],
 "metadata": {
  "kernelspec": {
   "display_name": "Python 3",
   "language": "python",
   "name": "python3"
  },
  "language_info": {
   "codemirror_mode": {
    "name": "ipython",
    "version": 3
   },
   "file_extension": ".py",
   "mimetype": "text/x-python",
   "name": "python",
   "nbconvert_exporter": "python",
   "pygments_lexer": "ipython3",
   "version": "3.7.3"
  }
 },
 "nbformat": 4,
 "nbformat_minor": 2
}
