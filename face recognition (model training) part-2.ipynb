{
 "cells": [
  {
   "cell_type": "code",
   "execution_count": 25,
   "metadata": {},
   "outputs": [],
   "source": [
    "import cv2\n",
    "import numpy as np\n",
    "from os import listdir\n",
    "from os.path import isfile,join"
   ]
  },
  {
   "cell_type": "code",
   "execution_count": 26,
   "metadata": {},
   "outputs": [
    {
     "name": "stdout",
     "output_type": "stream",
     "text": [
      "Model Training Complete!!!\n"
     ]
    }
   ],
   "source": [
    "data_path=\"D:/sample_images/\"\n",
    "onlyfiles=[f for f in listdir(data_path) if isfile(join(data_path,f))] \n",
    "Training_data,Labels=[],[]\n",
    "for i,files in enumerate(onlyfiles):\n",
    "    image_path=data_path + onlyfiles[i]\n",
    "    images=cv2.imread(image_path,cv2.IMREAD_GRAYSCALE)\n",
    "    Training_data.append(np.asarray(images,dtype=np.uint8))\n",
    "    Labels.append(i)\n",
    "    \n",
    "Labels=np.asarray(Labels,dtype=np.int32)\n",
    "model=cv2.face.LBPHFaceRecognizer_create()\n",
    "model.train(np.asarray(Training_data),np.asarray(Labels))\n",
    "print(\"Model Training Complete!!!\")"
   ]
  },
  {
   "cell_type": "code",
   "execution_count": 27,
   "metadata": {},
   "outputs": [],
   "source": [
    "face_classifier=cv2.CascadeClassifier('haarcascade_frontalface_alt.xml')\n",
    "def face_detector(img,size=0.5):\n",
    "    gray=cv2.cvtColor(img,cv2.COLOR_BGR2GRAY)\n",
    "    faces=face_classifier.detectMultiScale(gray,1.3,5)\n",
    "    if faces is():\n",
    "        return img,[]\n",
    "    \n",
    "    for(x,y,w,h)in faces:\n",
    "        cv2.rectangle(img,(x,y),(x+w,y+h),(0,255,255),2)\n",
    "        roi=img[y:y+h,x:x+w]\n",
    "        roi=cv2.resize(roi,(200,200))\n",
    "        \n",
    "    return img,roi    \n",
    "        "
   ]
  },
  {
   "cell_type": "code",
   "execution_count": 28,
   "metadata": {},
   "outputs": [],
   "source": [
    "cap=cv2.VideoCapture(0)\n",
    "while True:\n",
    "    ret,frame=cap.read()\n",
    "    image,face=face_detector(frame)\n",
    "    try:\n",
    "        face=cv2.cvtColor(face,cv2.COLOR_BGR2GRAY)\n",
    "        result=model.predict(face)\n",
    "        if result[1] < 500:\n",
    "            confidence=int(100*(1-(result[1])/300))\n",
    "            display_string=str(confidence)+' % confidence it is user' \n",
    "        if confidence > 75:\n",
    "            cv2.putText(image,display_string,(100,120),cv2.FONT_HERSHEY_DUPLEX,1,(0,0,255))\n",
    "            cv2.putText(image,\"Unlocked\",(250,450),cv2.FONT_HERSHEY_DUPLEX,1,(0,255,0))\n",
    "            cv2.imshow('Face Cropper',image)\n",
    "            \n",
    "        else:\n",
    "            cv2.putText(image,\"Locked\",(300,450),cv2.FONT_HERSHEY_DUPLEX,1,(255,0,0))\n",
    "            cv2.imshow('Face Cropper',image)\n",
    "            \n",
    "    except:\n",
    "        cv2.putText(image,\"Face Not Found\",(250,450),cv2.FONT_HERSHEY_DUPLEX,1,(0,255,0))\n",
    "        cv2.imshow('Face Cropper',image)\n",
    "        pass\n",
    "    \n",
    "    if cv2.waitKey(1) == 13:\n",
    "        break\n",
    "        \n",
    "            \n",
    "cap.release()\n",
    "cv2.destroyAllWindows()\n",
    "            \n",
    "        "
   ]
  },
  {
   "cell_type": "code",
   "execution_count": null,
   "metadata": {},
   "outputs": [],
   "source": []
  },
  {
   "cell_type": "code",
   "execution_count": null,
   "metadata": {},
   "outputs": [],
   "source": []
  },
  {
   "cell_type": "code",
   "execution_count": null,
   "metadata": {},
   "outputs": [],
   "source": []
  }
 ],
 "metadata": {
  "kernelspec": {
   "display_name": "Python 3",
   "language": "python",
   "name": "python3"
  },
  "language_info": {
   "codemirror_mode": {
    "name": "ipython",
    "version": 3
   },
   "file_extension": ".py",
   "mimetype": "text/x-python",
   "name": "python",
   "nbconvert_exporter": "python",
   "pygments_lexer": "ipython3",
   "version": "3.7.3"
  }
 },
 "nbformat": 4,
 "nbformat_minor": 2
}
