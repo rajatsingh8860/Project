{
 "cells": [
  {
   "cell_type": "code",
   "execution_count": 7,
   "metadata": {},
   "outputs": [],
   "source": [
    "import cv2\n",
    "from PIL import Image\n",
    "import numpy as np\n",
    "import os\n",
    "from sklearn.preprocessing import LabelEncoder\n",
    "import pickle"
   ]
  },
  {
   "cell_type": "code",
   "execution_count": 8,
   "metadata": {},
   "outputs": [],
   "source": [
    "path=\"dataset\"\n",
    "recognizer=cv2.face.LBPHFaceRecognizer_create()\n",
    "detector=cv2.CascadeClassifier(\"haarcascade_frontalface_alt.xml\")\n",
    "def getImageAndLabels(data):\n",
    "    imagePath=[os.path.join(path,f) for f in os.listdir(path)]# doubt\n",
    "    faceSamples=[]\n",
    "    ids=[]\n",
    "    for images in imagePath:\n",
    "        pil_image=Image.open(images).convert(\"L\")\n",
    "        img_array=np.array(pil_image,\"uint8\")\n",
    "        id = images.split(\".\")[2]# doubt\n",
    "        faces=detector.detectMultiScale(img_array)\n",
    "        for(x,y,w,h) in faces:\n",
    "            faceSamples.append(img_array[y:y+h,x:x+w])\n",
    "            ids.append(id)\n",
    "    return faceSamples,ids        "
   ]
  },
  {
   "cell_type": "code",
   "execution_count": 9,
   "metadata": {},
   "outputs": [
    {
     "name": "stdout",
     "output_type": "stream",
     "text": [
      "faces trained\n"
     ]
    }
   ],
   "source": [
    "if __name__ == \"__main__\":\n",
    "    faces,ids=getImageAndLabels(\"dataset\")\n",
    "    pickle.dump(ids,open('names','wb'))\n",
    "    le=LabelEncoder()\n",
    "    ids=le.fit_transform(ids)+1\n",
    "    recognizer.train(np.array(faces),np.array(ids))\n",
    "    recognizer.save(\"trainer.yml\")\n",
    "    print(\"faces trained\")"
   ]
  },
  {
   "cell_type": "code",
   "execution_count": null,
   "metadata": {},
   "outputs": [],
   "source": []
  },
  {
   "cell_type": "code",
   "execution_count": null,
   "metadata": {},
   "outputs": [],
   "source": []
  },
  {
   "cell_type": "code",
   "execution_count": null,
   "metadata": {},
   "outputs": [],
   "source": []
  }
 ],
 "metadata": {
  "kernelspec": {
   "display_name": "Python 3",
   "language": "python",
   "name": "python3"
  },
  "language_info": {
   "codemirror_mode": {
    "name": "ipython",
    "version": 3
   },
   "file_extension": ".py",
   "mimetype": "text/x-python",
   "name": "python",
   "nbconvert_exporter": "python",
   "pygments_lexer": "ipython3",
   "version": "3.7.3"
  }
 },
 "nbformat": 4,
 "nbformat_minor": 2
}
