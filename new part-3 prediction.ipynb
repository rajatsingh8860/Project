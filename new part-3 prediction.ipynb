{
 "cells": [
  {
   "cell_type": "code",
   "execution_count": 9,
   "metadata": {},
   "outputs": [],
   "source": [
    "import cv2\n",
    "import numpy as np\n",
    "import os\n",
    "import pandas as pd\n",
    "import datetime\n",
    "import time\n",
    "import pickle\n",
    "import json"
   ]
  },
  {
   "cell_type": "code",
   "execution_count": 10,
   "metadata": {},
   "outputs": [
    {
     "name": "stdout",
     "output_type": "stream",
     "text": [
      "['nitu', 'shubham', 'rajat']\n"
     ]
    }
   ],
   "source": [
    "recognizer=cv2.face.LBPHFaceRecognizer_create()\n",
    "recognizer.read('trainer.yml')\n",
    "faceCascade=cv2.CascadeClassifier(\"haarcascade_frontalface_alt.xml\")\n",
    "names=list(set(pickle.load(open('names','rb'))))\n",
    "print(names)"
   ]
  },
  {
   "cell_type": "code",
   "execution_count": 11,
   "metadata": {},
   "outputs": [
    {
     "name": "stdout",
     "output_type": "stream",
     "text": [
      "Empty DataFrame\n",
      "Columns: [Id, Name, Date, Time]\n",
      "Index: []\n"
     ]
    }
   ],
   "source": [
    "yrl=\"https://10.37.226.224:8080/video\"\n",
    "cam=cv2.VideoCapture(yrl)\n",
    "cam.set(3,640)#set video width\n",
    "cam.set(4,480)#set video height\n",
    "#size of window to recognize face\n",
    "minW=0.1*cam.get(3)\n",
    "minH=0.1*cam.get(4)\n",
    "col_names=['Id','Name','Date','Time']\n",
    "attendance=pd.DataFrame(columns=col_names)\n",
    "print(attendance)"
   ]
  },
  {
   "cell_type": "code",
   "execution_count": null,
   "metadata": {},
   "outputs": [
    {
     "name": "stdout",
     "output_type": "stream",
     "text": [
      "Confidence : 62.863521748545026 - Ids : 2\n",
      "['shubham']\n",
      "Confidence : 62.34540279365268 - Ids : 2\n",
      "['shubham']\n",
      "Confidence : 63.91453289518657 - Ids : 2\n",
      "['shubham']\n",
      "Confidence : 62.598052965255995 - Ids : 3\n",
      "['rahul' 'rahul' 'nitu']\n",
      "Confidence : 64.65653740497021 - Ids : 3\n",
      "['rahul' 'rahul' 'nitu']\n",
      "Confidence : 64.31896330853617 - Ids : 3\n",
      "['rahul' 'rahul' 'nitu']\n",
      "Confidence : 64.21430850463199 - Ids : 3\n",
      "['rahul' 'rahul' 'nitu']\n",
      "Confidence : 61.918629711379374 - Ids : 3\n",
      "['rahul' 'rahul' 'nitu']\n",
      "Confidence : 62.760869504739645 - Ids : 3\n",
      "['rahul' 'rahul' 'nitu']\n",
      "Confidence : 64.53610477095405 - Ids : 3\n",
      "['rahul' 'rahul' 'nitu']\n",
      "Confidence : 64.43554578854635 - Ids : 3\n",
      "['rahul' 'rahul' 'nitu']\n",
      "Confidence : 64.69327719481672 - Ids : 3\n",
      "['rahul' 'rahul' 'nitu']\n",
      "Confidence : 62.384506317434294 - Ids : 3\n",
      "['rahul' 'rahul' 'nitu']\n"
     ]
    }
   ],
   "source": [
    "df=pd.read_csv(\"Student_deatils.csv\")\n",
    "data={}\n",
    "while True:\n",
    "    ret,image=cam.read()\n",
    "    gray=cv2.cvtColor(image,cv2.COLOR_BGR2GRAY)\n",
    "    faces=faceCascade.detectMultiScale(gray,scaleFactor=1.3,minNeighbors=5,minSize=((int(minW),int(minH))))\n",
    "    for(x,y,w,h) in faces:\n",
    "        cv2.rectangle(image,(x,y),(x+w,y+h),(0,255,0),2)\n",
    "        Id,confidence=recognizer.predict(gray[y:y+h,x:x+w])\n",
    "       # attendance=attendance.drop_duplicates(subset=['Id'],keep='first')\n",
    "        if confidence < 65:\n",
    "            print('Confidence : {0} - Ids : {1}'.format(confidence,Id))\n",
    "            ts=time.time()\n",
    "            date=datetime.datetime.fromtimestamp(ts).strftime('%Y-%m-%d')\n",
    "            timestamp=datetime.datetime.fromtimestamp(ts).strftime('%H:%M:%S')\n",
    "            aa=df.loc[df['Id'] == Id]['Name'].values\n",
    "            print(aa)\n",
    "            tt=str(Id)+\"-\"+aa\n",
    "            attendance.loc[len(attendance)]=[Id,aa,date,timestamp]\n",
    "            cv2.putText(\n",
    "            image,str(Id),(x+5,y-5),cv2.FONT_HERSHEY_SIMPLEX,1,(255,255,255),2)\n",
    "            cv2.putText(\n",
    "            image,str(confidence),(x+5,y+h-5),cv2.FONT_HERSHEY_SIMPLEX,1,(255,255,0),2)\n",
    "    attendance=attendance.drop_duplicates(subset=['Id'],keep='first')\n",
    "    cv2.imshow('camera',image)\n",
    "    if cv2.waitKey(1) == 13:\n",
    "        break\n",
    "record_data=[data] \n",
    "ts=time.time()\n",
    "date=datetime.datetime.fromtimestamp(ts).strftime('%Y-%m-%d')\n",
    "timestamp=datetime.datetime.fromtimestamp(ts).strftime('%H:%M:%S')\n",
    "Hour,Minute,Second=timestamp.split(\":\")\n",
    "fileName=\"Attendance_record_\"+date+\" \"+Hour+\"-\"+Minute+\"-\"+Second+\".csv\"\n",
    "attendance.to_csv(fileName,index=False) \n",
    "#todo add a csv file to enter all enteries for unique names\n",
    "with open('test_record.json','+a') as f:\n",
    "    json.dump(record_data,f)\n",
    "cam.release()\n",
    "cv2.destroyAllWindows()\n",
    "    \n",
    "    "
   ]
  },
  {
   "cell_type": "code",
   "execution_count": null,
   "metadata": {},
   "outputs": [],
   "source": [
    "\n",
    "\n",
    "\n",
    "\n",
    "\n",
    "\n",
    "\n",
    "\n",
    "\n",
    "\n",
    "\n"
   ]
  },
  {
   "cell_type": "code",
   "execution_count": null,
   "metadata": {},
   "outputs": [],
   "source": []
  },
  {
   "cell_type": "code",
   "execution_count": null,
   "metadata": {},
   "outputs": [],
   "source": []
  },
  {
   "cell_type": "code",
   "execution_count": null,
   "metadata": {},
   "outputs": [],
   "source": []
  },
  {
   "cell_type": "code",
   "execution_count": null,
   "metadata": {},
   "outputs": [],
   "source": []
  }
 ],
 "metadata": {
  "kernelspec": {
   "display_name": "Python 3",
   "language": "python",
   "name": "python3"
  },
  "language_info": {
   "codemirror_mode": {
    "name": "ipython",
    "version": 3
   },
   "file_extension": ".py",
   "mimetype": "text/x-python",
   "name": "python",
   "nbconvert_exporter": "python",
   "pygments_lexer": "ipython3",
   "version": "3.7.3"
  }
 },
 "nbformat": 4,
 "nbformat_minor": 2
}
